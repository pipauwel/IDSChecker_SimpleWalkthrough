{
 "cells": [
  {
   "cell_type": "markdown",
   "metadata": {},
   "source": [
    "# IFC IDS Tester application\n",
    "In this notebook, we try the IDS and IFC tester in Python, step by step. This test is based on the repository documentation:\n",
    "- https://github.com/buildingSMART/IDS/tree/development/Documentation\n",
    "- https://github.com/IfcOpenShell/IfcOpenShell/tree/v0.8.0/src/ifctester\n",
    "\n",
    "First, we install the `ifctester` library."
   ]
  },
  {
   "cell_type": "code",
   "execution_count": null,
   "metadata": {},
   "outputs": [],
   "source": [
    "pip install ifctester ifcopenshell pystache\n"
   ]
  },
  {
   "cell_type": "markdown",
   "metadata": {},
   "source": [
    "After installing `ifcopenshell` and `ifctester`, we can import both in our coding environment, so that we can use them."
   ]
  },
  {
   "cell_type": "code",
   "execution_count": null,
   "metadata": {},
   "outputs": [],
   "source": [
    "import ifcopenshell\n",
    "from ifctester import ids, reporter"
   ]
  },
  {
   "cell_type": "markdown",
   "metadata": {},
   "source": [
    "We first create an empty IDS Information Delivery Specification, with name My IDS."
   ]
  },
  {
   "cell_type": "code",
   "execution_count": null,
   "metadata": {},
   "outputs": [],
   "source": [
    "# create new IDS\n",
    "my_ids = ids.Ids(title=\"My IDS\")"
   ]
  },
  {
   "cell_type": "markdown",
   "metadata": {},
   "source": [
    "Then, we can add multiple requirements to this IDS, including applicability, property facets, classification facets, attribute facets, and so forth. For more information about what these are, have a look in the documentation: https://github.com/buildingSMART/IDS/tree/development/Documentation."
   ]
  },
  {
   "cell_type": "code",
   "execution_count": null,
   "metadata": {},
   "outputs": [],
   "source": [
    "# add specification to it\n",
    "my_spec = ids.Specification(name=\"My first specification\")\n",
    "my_spec.applicability.append(ids.Entity(name=\"IFCWALL\"))\n",
    "property = ids.Property(\n",
    "    baseName=\"IsExternal\",\n",
    "    value=\"TRUE\", \n",
    "    propertySet=\"Pset_WallCommon\", \n",
    "    dataType=\"IfcBoolean\",\n",
    "    uri=\"https://identifier.buildingsmart.org/uri/.../prop/LoadBearing\", \n",
    "    instructions=\"Walls need to be loadbearing.\",\n",
    "    cardinality=\"required\")\n",
    "my_spec.requirements.append(property)\n",
    "my_ids.specifications.append(my_spec)"
   ]
  },
  {
   "cell_type": "markdown",
   "metadata": {},
   "source": [
    "Great, we now have one property added to the IDS document that we can now save into an IDS.xml file:"
   ]
  },
  {
   "cell_type": "code",
   "execution_count": null,
   "metadata": {},
   "outputs": [],
   "source": [
    "# Save such IDS to file\n",
    "result = my_ids.to_xml(\"SampleIDS.xml\")"
   ]
  },
  {
   "cell_type": "markdown",
   "metadata": {},
   "source": [
    "Now that we have an IDS XML document, we can check input IFC files against this IDS spec. This is done by loading a sample `IFC1` file, and then executing the `validate()` function on IDS and IFC file. When you do this, make sure that the folders are in the same location as this script (or modify the path to the files)."
   ]
  },
  {
   "cell_type": "code",
   "execution_count": null,
   "metadata": {},
   "outputs": [],
   "source": [
    "# open  IFC file:\n",
    "my_ifc = ifcopenshell.open(\"smallhouse.ifc\")\n",
    "\n",
    "# validate IFC model against IDS requirements:\n",
    "my_ids.validate(my_ifc)"
   ]
  },
  {
   "cell_type": "markdown",
   "metadata": {},
   "source": [
    "Finally, we export the results in a report. You can either choose to:\n",
    "- export the results in a Console-like format, or\n",
    "- export the results in an HTML format\n",
    "\n",
    "The latter is more user-friendly."
   ]
  },
  {
   "cell_type": "code",
   "execution_count": null,
   "metadata": {},
   "outputs": [],
   "source": [
    "import pystache"
   ]
  },
  {
   "cell_type": "code",
   "execution_count": null,
   "metadata": {},
   "outputs": [],
   "source": [
    "# show results:\n",
    "reporter.Console(my_ids).report()\n",
    "\n",
    "\n",
    "\n",
    "# show results in HTML\n",
    "reporter_obj = reporter.Html(my_ids)\n",
    "reporter_obj.report()\n",
    "reporter_obj.to_file(\"report.html\")"
   ]
  },
  {
   "cell_type": "markdown",
   "metadata": {},
   "source": [
    "You are done!!\n",
    "Open the HTML file and find your checker results."
   ]
  }
 ],
 "metadata": {
  "kernelspec": {
   "display_name": "Python 3",
   "language": "python",
   "name": "python3"
  },
  "language_info": {
   "codemirror_mode": {
    "name": "ipython",
    "version": 3
   },
   "file_extension": ".py",
   "mimetype": "text/x-python",
   "name": "python",
   "nbconvert_exporter": "python",
   "pygments_lexer": "ipython3",
   "version": "3.9.1"
  }
 },
 "nbformat": 4,
 "nbformat_minor": 2
}
