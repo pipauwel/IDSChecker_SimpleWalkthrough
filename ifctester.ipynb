{
 "cells": [
  {
   "cell_type": "markdown",
   "metadata": {},
   "source": [
    "# IFC IDS Tester application\n",
    "In this notebook, we try the IDS and IFC tester in Python, step by step. This test is based on the repository documentation:\n",
    "- https://github.com/buildingSMART/IDS/tree/development/Documentation\n",
    "- https://github.com/IfcOpenShell/IfcOpenShell/tree/v0.8.0/src/ifctester\n",
    "\n",
    "First, we install the `ifctester` library."
   ]
  },
  {
   "cell_type": "code",
   "execution_count": 12,
   "metadata": {},
   "outputs": [
    {
     "name": "stdout",
     "output_type": "stream",
     "text": [
      "Requirement already satisfied: ifctester in c:\\users\\20194060\\appdata\\local\\programs\\python\\python39\\lib\\site-packages (0.0.240518)\n",
      "Requirement already satisfied: ifcopenshell in c:\\users\\20194060\\appdata\\local\\programs\\python\\python39\\lib\\site-packages (0.7.0.231018)\n",
      "Collecting pystache\n",
      "  Downloading pystache-0.6.5-py3-none-any.whl.metadata (14 kB)\n",
      "Requirement already satisfied: python-dateutil in c:\\users\\20194060\\appdata\\roaming\\python\\python39\\site-packages (from ifctester) (2.8.2)\n",
      "Requirement already satisfied: xmlschema in c:\\users\\20194060\\appdata\\local\\programs\\python\\python39\\lib\\site-packages (from ifctester) (3.3.1)\n",
      "Requirement already satisfied: numpy in c:\\users\\20194060\\appdata\\local\\programs\\python\\python39\\lib\\site-packages (from ifctester) (1.26.2)\n",
      "Requirement already satisfied: importlib-metadata>=4.6 in c:\\users\\20194060\\appdata\\roaming\\python\\python39\\site-packages (from pystache) (6.8.0)\n",
      "Requirement already satisfied: zipp>=0.5 in c:\\users\\20194060\\appdata\\roaming\\python\\python39\\site-packages (from importlib-metadata>=4.6->pystache) (3.17.0)\n",
      "Requirement already satisfied: six>=1.5 in c:\\users\\20194060\\appdata\\local\\programs\\python\\python39\\lib\\site-packages (from python-dateutil->ifctester) (1.16.0)\n",
      "Requirement already satisfied: elementpath<5.0.0,>=4.4.0 in c:\\users\\20194060\\appdata\\local\\programs\\python\\python39\\lib\\site-packages (from xmlschema->ifctester) (4.4.0)\n",
      "Downloading pystache-0.6.5-py3-none-any.whl (81 kB)\n",
      "   ---------------------------------------- 0.0/81.3 kB ? eta -:--:--\n",
      "   ---------------------------------------- 81.3/81.3 kB 4.4 MB/s eta 0:00:00\n",
      "Installing collected packages: pystache\n",
      "Successfully installed pystache-0.6.5\n",
      "Note: you may need to restart the kernel to use updated packages.\n"
     ]
    },
    {
     "name": "stderr",
     "output_type": "stream",
     "text": [
      "\n",
      "[notice] A new release of pip is available: 23.3.1 -> 24.0\n",
      "[notice] To update, run: python.exe -m pip install --upgrade pip\n"
     ]
    }
   ],
   "source": [
    "pip install ifctester ifcopenshell pystache\n"
   ]
  },
  {
   "cell_type": "markdown",
   "metadata": {},
   "source": [
    "After installing `ifcopenshell` and `ifctester`, we can import both in our coding environment, so that we can use them."
   ]
  },
  {
   "cell_type": "code",
   "execution_count": 2,
   "metadata": {},
   "outputs": [
    {
     "name": "stderr",
     "output_type": "stream",
     "text": [
      "No stream support: No module named 'lark'\n"
     ]
    }
   ],
   "source": [
    "import ifcopenshell\n",
    "from ifctester import ids, reporter"
   ]
  },
  {
   "cell_type": "markdown",
   "metadata": {},
   "source": [
    "We first create an empty IDS Information Delivery Specification, with name My IDS."
   ]
  },
  {
   "cell_type": "code",
   "execution_count": 3,
   "metadata": {},
   "outputs": [],
   "source": [
    "# create new IDS\n",
    "my_ids = ids.Ids(title=\"My IDS\")"
   ]
  },
  {
   "cell_type": "markdown",
   "metadata": {},
   "source": [
    "Then, we can add multiple requirements to this IDS, including applicability, property facets, classification facets, attribute facets, and so forth. For more information about what these are, have a look in the documentation: https://github.com/buildingSMART/IDS/tree/development/Documentation."
   ]
  },
  {
   "cell_type": "code",
   "execution_count": 6,
   "metadata": {},
   "outputs": [],
   "source": [
    "# add specification to it\n",
    "my_spec = ids.Specification(name=\"My first specification\")\n",
    "my_spec.applicability.append(ids.Entity(name=\"IFCWALL\"))\n",
    "property = ids.Property(\n",
    "    baseName=\"IsExternal\",\n",
    "    value=\"TRUE\", \n",
    "    propertySet=\"Pset_WallCommon\", \n",
    "    dataType=\"IfcBoolean\",\n",
    "    uri=\"https://identifier.buildingsmart.org/uri/.../prop/LoadBearing\", \n",
    "    instructions=\"Walls need to be loadbearing.\",\n",
    "    cardinality=\"required\")\n",
    "my_spec.requirements.append(property)\n",
    "my_ids.specifications.append(my_spec)"
   ]
  },
  {
   "cell_type": "markdown",
   "metadata": {},
   "source": [
    "Great, we now have one property added to the IDS document that we can now save into an IDS.xml file:"
   ]
  },
  {
   "cell_type": "code",
   "execution_count": 5,
   "metadata": {},
   "outputs": [],
   "source": [
    "# Save such IDS to file\n",
    "result = my_ids.to_xml(\"SampleIDS.xml\")"
   ]
  },
  {
   "cell_type": "markdown",
   "metadata": {},
   "source": [
    "Now that we have an IDS XML document, we can check input IFC files against this IDS spec. This is done by loading a sample `IFC1` file, and then executing the `validate()` function on IDS and IFC file. When you do this, make sure that the folders are in the same location as this script (or modify the path to the files)."
   ]
  },
  {
   "cell_type": "code",
   "execution_count": null,
   "metadata": {},
   "outputs": [],
   "source": [
    "# open  IFC file:\n",
    "my_ifc = ifcopenshell.open(\"smallhouse.ifc\")\n",
    "\n",
    "# validate IFC model against IDS requirements:\n",
    "my_ids.validate(my_ifc)"
   ]
  },
  {
   "cell_type": "markdown",
   "metadata": {},
   "source": [
    "Finally, we export the results in a report. You can either choose to:\n",
    "- export the results in a Console-like format, or\n",
    "- export the results in an HTML format\n",
    "\n",
    "The latter is more user-friendly."
   ]
  },
  {
   "cell_type": "code",
   "execution_count": 13,
   "metadata": {},
   "outputs": [],
   "source": [
    "import pystache"
   ]
  },
  {
   "cell_type": "code",
   "execution_count": 14,
   "metadata": {},
   "outputs": [
    {
     "name": "stdout",
     "output_type": "stream",
     "text": [
      "\u001b[;1m\u001b[1;34mMy IDS\n",
      "\u001b[;1m\u001b[0;33m[UNTESTED] \u001b[;1m(0/0) My first specification\n",
      "\u001b[1;36m    Applies to:\n",
      "\u001b[0;0m        All IFCWALL data\n",
      "\u001b[1;36m    Requirements:\n",
      "\u001b[0;0m\u001b[0;0m\u001b[0;32m        IsExternal data shall be TRUE and in the dataset Pset_WallCommon\n",
      "\u001b[0;0m\u001b[0;0m\u001b[;1m\u001b[0;33m[UNTESTED] \u001b[;1m(0/0) My first specification\n",
      "\u001b[1;36m    Applies to:\n",
      "\u001b[0;0m        All IFCWALL data\n",
      "\u001b[1;36m    Requirements:\n",
      "\u001b[0;0m\u001b[0;0m\u001b[0;32m        IsExternal data shall be TRUE and in the dataset Pset_WallCommon\n",
      "\u001b[0;0m\u001b[0;0m\u001b[0;0m"
     ]
    },
    {
     "data": {
      "text/plain": [
       "6721"
      ]
     },
     "execution_count": 14,
     "metadata": {},
     "output_type": "execute_result"
    }
   ],
   "source": [
    "# show results:\n",
    "reporter.Console(my_ids).report()\n",
    "\n",
    "\n",
    "\n",
    "# show results in HTML\n",
    "reporter_obj = reporter.Html(my_ids)\n",
    "reporter_obj.report()\n",
    "reporter_obj.to_file(\"report.html\")"
   ]
  },
  {
   "cell_type": "markdown",
   "metadata": {},
   "source": [
    "You are done!!\n",
    "Open the HTML file and find your checker results."
   ]
  }
 ],
 "metadata": {
  "kernelspec": {
   "display_name": "Python 3",
   "language": "python",
   "name": "python3"
  },
  "language_info": {
   "codemirror_mode": {
    "name": "ipython",
    "version": 3
   },
   "file_extension": ".py",
   "mimetype": "text/x-python",
   "name": "python",
   "nbconvert_exporter": "python",
   "pygments_lexer": "ipython3",
   "version": "3.9.1"
  }
 },
 "nbformat": 4,
 "nbformat_minor": 2
}
